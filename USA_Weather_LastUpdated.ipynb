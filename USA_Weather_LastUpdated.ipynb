{
  "cells": [
    {
      "cell_type": "code",
      "execution_count": 1,
      "metadata": {
        "colab": {
          "base_uri": "https://localhost:8080/"
        },
        "id": "ooPu82HVHQRY",
        "outputId": "b3541688-5ec9-40f3-db62-76d4c68b2f7a"
      },
      "outputs": [
        {
          "name": "stdout",
          "output_type": "stream",
          "text": [
            "Requirement already satisfied: shapely in c:\\users\\hp\\anaconda3\\lib\\site-packages (2.0.6)\n",
            "Requirement already satisfied: numpy<3,>=1.14 in c:\\users\\hp\\anaconda3\\lib\\site-packages (from shapely) (1.26.4)\n",
            "Note: you may need to restart the kernel to use updated packages.\n"
          ]
        }
      ],
      "source": [
        "pip install shapely"
      ]
    },
    {
      "cell_type": "code",
      "execution_count": 4,
      "metadata": {
        "colab": {
          "base_uri": "https://localhost:8080/"
        },
        "id": "Z5wK9xeF1pXE",
        "outputId": "03b669ef-a094-4842-9645-7de65549aed7"
      },
      "outputs": [
        {
          "name": "stdout",
          "output_type": "stream",
          "text": [
            "Requirement already satisfied: shapely in c:\\users\\hp\\anaconda3\\lib\\site-packages (2.0.6)\n",
            "Requirement already satisfied: numpy<3,>=1.14 in c:\\users\\hp\\anaconda3\\lib\\site-packages (from shapely) (1.26.4)\n",
            "Requirement already satisfied: modin[ray] in c:\\users\\hp\\anaconda3\\lib\\site-packages (0.32.0)\n",
            "Requirement already satisfied: pandas<2.3,>=2.2 in c:\\users\\hp\\anaconda3\\lib\\site-packages (from modin[ray]) (2.2.2)\n",
            "Requirement already satisfied: packaging>=21.0 in c:\\users\\hp\\anaconda3\\lib\\site-packages (from modin[ray]) (24.1)\n",
            "Requirement already satisfied: numpy>=1.22.4 in c:\\users\\hp\\anaconda3\\lib\\site-packages (from modin[ray]) (1.26.4)\n",
            "Requirement already satisfied: fsspec>=2022.11.0 in c:\\users\\hp\\anaconda3\\lib\\site-packages (from modin[ray]) (2024.6.1)\n",
            "Requirement already satisfied: psutil>=5.8.0 in c:\\users\\hp\\anaconda3\\lib\\site-packages (from modin[ray]) (5.9.0)\n",
            "Requirement already satisfied: ray!=2.5.0,>=2.1.0 in c:\\users\\hp\\anaconda3\\lib\\site-packages (from modin[ray]) (2.40.0)\n",
            "Requirement already satisfied: pyarrow>=10.0.1 in c:\\users\\hp\\anaconda3\\lib\\site-packages (from modin[ray]) (16.1.0)\n",
            "Requirement already satisfied: python-dateutil>=2.8.2 in c:\\users\\hp\\anaconda3\\lib\\site-packages (from pandas<2.3,>=2.2->modin[ray]) (2.9.0.post0)\n",
            "Requirement already satisfied: pytz>=2020.1 in c:\\users\\hp\\anaconda3\\lib\\site-packages (from pandas<2.3,>=2.2->modin[ray]) (2024.1)\n",
            "Requirement already satisfied: tzdata>=2022.7 in c:\\users\\hp\\anaconda3\\lib\\site-packages (from pandas<2.3,>=2.2->modin[ray]) (2023.3)\n",
            "Requirement already satisfied: click>=7.0 in c:\\users\\hp\\anaconda3\\lib\\site-packages (from ray!=2.5.0,>=2.1.0->modin[ray]) (8.1.7)\n",
            "Requirement already satisfied: filelock in c:\\users\\hp\\anaconda3\\lib\\site-packages (from ray!=2.5.0,>=2.1.0->modin[ray]) (3.13.1)\n",
            "Requirement already satisfied: jsonschema in c:\\users\\hp\\anaconda3\\lib\\site-packages (from ray!=2.5.0,>=2.1.0->modin[ray]) (4.23.0)\n",
            "Requirement already satisfied: msgpack<2.0.0,>=1.0.0 in c:\\users\\hp\\anaconda3\\lib\\site-packages (from ray!=2.5.0,>=2.1.0->modin[ray]) (1.0.3)\n",
            "Requirement already satisfied: protobuf!=3.19.5,>=3.15.3 in c:\\users\\hp\\anaconda3\\lib\\site-packages (from ray!=2.5.0,>=2.1.0->modin[ray]) (4.25.3)\n",
            "Requirement already satisfied: pyyaml in c:\\users\\hp\\anaconda3\\lib\\site-packages (from ray!=2.5.0,>=2.1.0->modin[ray]) (6.0.1)\n",
            "Requirement already satisfied: aiosignal in c:\\users\\hp\\anaconda3\\lib\\site-packages (from ray!=2.5.0,>=2.1.0->modin[ray]) (1.2.0)\n",
            "Requirement already satisfied: frozenlist in c:\\users\\hp\\anaconda3\\lib\\site-packages (from ray!=2.5.0,>=2.1.0->modin[ray]) (1.4.0)\n",
            "Requirement already satisfied: requests in c:\\users\\hp\\anaconda3\\lib\\site-packages (from ray!=2.5.0,>=2.1.0->modin[ray]) (2.32.3)\n",
            "Requirement already satisfied: colorama in c:\\users\\hp\\anaconda3\\lib\\site-packages (from click>=7.0->ray!=2.5.0,>=2.1.0->modin[ray]) (0.4.6)\n",
            "Requirement already satisfied: six>=1.5 in c:\\users\\hp\\anaconda3\\lib\\site-packages (from python-dateutil>=2.8.2->pandas<2.3,>=2.2->modin[ray]) (1.16.0)\n",
            "Requirement already satisfied: attrs>=22.2.0 in c:\\users\\hp\\anaconda3\\lib\\site-packages (from jsonschema->ray!=2.5.0,>=2.1.0->modin[ray]) (23.1.0)\n",
            "Requirement already satisfied: jsonschema-specifications>=2023.03.6 in c:\\users\\hp\\anaconda3\\lib\\site-packages (from jsonschema->ray!=2.5.0,>=2.1.0->modin[ray]) (2023.7.1)\n",
            "Requirement already satisfied: referencing>=0.28.4 in c:\\users\\hp\\anaconda3\\lib\\site-packages (from jsonschema->ray!=2.5.0,>=2.1.0->modin[ray]) (0.30.2)\n",
            "Requirement already satisfied: rpds-py>=0.7.1 in c:\\users\\hp\\anaconda3\\lib\\site-packages (from jsonschema->ray!=2.5.0,>=2.1.0->modin[ray]) (0.10.6)\n",
            "Requirement already satisfied: charset-normalizer<4,>=2 in c:\\users\\hp\\anaconda3\\lib\\site-packages (from requests->ray!=2.5.0,>=2.1.0->modin[ray]) (3.3.2)\n",
            "Requirement already satisfied: idna<4,>=2.5 in c:\\users\\hp\\anaconda3\\lib\\site-packages (from requests->ray!=2.5.0,>=2.1.0->modin[ray]) (3.7)\n",
            "Requirement already satisfied: urllib3<3,>=1.21.1 in c:\\users\\hp\\anaconda3\\lib\\site-packages (from requests->ray!=2.5.0,>=2.1.0->modin[ray]) (2.2.3)\n",
            "Requirement already satisfied: certifi>=2017.4.17 in c:\\users\\hp\\anaconda3\\lib\\site-packages (from requests->ray!=2.5.0,>=2.1.0->modin[ray]) (2024.8.30)\n"
          ]
        }
      ],
      "source": [
        "#Import library\n",
        "import pandas as pd\n",
        "import numpy as np\n",
        "import matplotlib.pyplot as plt\n",
        "import seaborn as sns\n",
        "\n",
        "plt.style.use('fivethirtyeight')\n",
        "# geosptial\n",
        "import geopandas as gpd\n",
        "!pip install shapely\n",
        "!pip install modin[ray]\n",
        "from shapely.geometry import Point\n",
        "\n",
        "import warnings\n",
        "warnings.filterwarnings('ignore')"
      ]
    },
    {
      "cell_type": "code",
      "execution_count": 5,
      "metadata": {
        "colab": {
          "base_uri": "https://localhost:8080/"
        },
        "id": "zK0c_UYHHhNj",
        "outputId": "5361cce3-b60e-4d02-dfb7-98ff4bd52d9d"
      },
      "outputs": [
        {
          "name": "stdout",
          "output_type": "stream",
          "text": [
            "2.0.6\n"
          ]
        }
      ],
      "source": [
        "import shapely\n",
        "print(shapely.__version__)"
      ]
    },
    {
      "cell_type": "markdown",
      "metadata": {
        "id": "vKxzud39G6kX"
      },
      "source": [
        "**Import data and understand it**"
      ]
    },
    {
      "cell_type": "code",
      "execution_count": 6,
      "metadata": {
        "colab": {
          "base_uri": "https://localhost:8080/"
        },
        "id": "H3h7foCS2rvl",
        "outputId": "db14411d-5330-4a60-c7c0-1d3c1970e8e1"
      },
      "outputs": [
        {
          "name": "stdout",
          "output_type": "stream",
          "text": [
            "  EventId  Type Severity       StartTime(UTC)         EndTime(UTC)  \\\n",
            "0   W-310  Rain    Light  2016-08-01 00:16:00  2016-08-01 00:56:00   \n",
            "1   W-311  Rain    Light  2016-08-01 01:16:00  2016-08-01 01:36:00   \n",
            "2   W-312  Rain    Light  2016-08-01 01:56:00  2016-08-01 02:16:00   \n",
            "3   W-313  Rain    Light  2016-08-01 02:36:00  2016-08-01 02:56:00   \n",
            "4   W-314  Rain    Light  2016-08-01 04:36:00  2016-08-01 04:56:00   \n",
            "\n",
            "      TimeZone  LocationLat  LocationLng AirportCode      City    County  \\\n",
            "0  US/Mountain      38.0972    -106.1689        K04V  Saguache  Saguache   \n",
            "1  US/Mountain      38.0972    -106.1689        K04V  Saguache  Saguache   \n",
            "2  US/Mountain      38.0972    -106.1689        K04V  Saguache  Saguache   \n",
            "3  US/Mountain      38.0972    -106.1689        K04V  Saguache  Saguache   \n",
            "4  US/Mountain      38.0972    -106.1689        K04V  Saguache  Saguache   \n",
            "\n",
            "  State  ZipCode  \n",
            "0    CO  81149.0  \n",
            "1    CO  81149.0  \n",
            "2    CO  81149.0  \n",
            "3    CO  81149.0  \n",
            "4    CO  81149.0  \n"
          ]
        }
      ],
      "source": [
        "df = pd.read_csv('WeatherEvents_Aug16_Dec20_Publish.csv',\n",
        "     on_bad_lines='skip'\n",
        ")\n",
        "print(df.head())"
      ]
    },
    {
      "cell_type": "code",
      "execution_count": 7,
      "metadata": {
        "colab": {
          "base_uri": "https://localhost:8080/",
          "height": 556
        },
        "id": "fpd7f8heM_2o",
        "outputId": "d43f762a-07a9-4440-f3bb-73f2fffcc1c6"
      },
      "outputs": [
        {
          "data": {
            "text/html": [
              "<div>\n",
              "<style scoped>\n",
              "    .dataframe tbody tr th:only-of-type {\n",
              "        vertical-align: middle;\n",
              "    }\n",
              "\n",
              "    .dataframe tbody tr th {\n",
              "        vertical-align: top;\n",
              "    }\n",
              "\n",
              "    .dataframe thead th {\n",
              "        text-align: right;\n",
              "    }\n",
              "</style>\n",
              "<table border=\"1\" class=\"dataframe\">\n",
              "  <thead>\n",
              "    <tr style=\"text-align: right;\">\n",
              "      <th></th>\n",
              "      <th>EventId</th>\n",
              "      <th>Type</th>\n",
              "      <th>Severity</th>\n",
              "      <th>StartTime(UTC)</th>\n",
              "      <th>EndTime(UTC)</th>\n",
              "      <th>TimeZone</th>\n",
              "      <th>LocationLat</th>\n",
              "      <th>LocationLng</th>\n",
              "      <th>AirportCode</th>\n",
              "      <th>City</th>\n",
              "      <th>County</th>\n",
              "      <th>State</th>\n",
              "      <th>ZipCode</th>\n",
              "    </tr>\n",
              "  </thead>\n",
              "  <tbody>\n",
              "    <tr>\n",
              "      <th>0</th>\n",
              "      <td>W-310</td>\n",
              "      <td>Rain</td>\n",
              "      <td>Light</td>\n",
              "      <td>2016-08-01 00:16:00</td>\n",
              "      <td>2016-08-01 00:56:00</td>\n",
              "      <td>US/Mountain</td>\n",
              "      <td>38.0972</td>\n",
              "      <td>-106.1689</td>\n",
              "      <td>K04V</td>\n",
              "      <td>Saguache</td>\n",
              "      <td>Saguache</td>\n",
              "      <td>CO</td>\n",
              "      <td>81149.0</td>\n",
              "    </tr>\n",
              "    <tr>\n",
              "      <th>1</th>\n",
              "      <td>W-311</td>\n",
              "      <td>Rain</td>\n",
              "      <td>Light</td>\n",
              "      <td>2016-08-01 01:16:00</td>\n",
              "      <td>2016-08-01 01:36:00</td>\n",
              "      <td>US/Mountain</td>\n",
              "      <td>38.0972</td>\n",
              "      <td>-106.1689</td>\n",
              "      <td>K04V</td>\n",
              "      <td>Saguache</td>\n",
              "      <td>Saguache</td>\n",
              "      <td>CO</td>\n",
              "      <td>81149.0</td>\n",
              "    </tr>\n",
              "    <tr>\n",
              "      <th>2</th>\n",
              "      <td>W-312</td>\n",
              "      <td>Rain</td>\n",
              "      <td>Light</td>\n",
              "      <td>2016-08-01 01:56:00</td>\n",
              "      <td>2016-08-01 02:16:00</td>\n",
              "      <td>US/Mountain</td>\n",
              "      <td>38.0972</td>\n",
              "      <td>-106.1689</td>\n",
              "      <td>K04V</td>\n",
              "      <td>Saguache</td>\n",
              "      <td>Saguache</td>\n",
              "      <td>CO</td>\n",
              "      <td>81149.0</td>\n",
              "    </tr>\n",
              "    <tr>\n",
              "      <th>3</th>\n",
              "      <td>W-313</td>\n",
              "      <td>Rain</td>\n",
              "      <td>Light</td>\n",
              "      <td>2016-08-01 02:36:00</td>\n",
              "      <td>2016-08-01 02:56:00</td>\n",
              "      <td>US/Mountain</td>\n",
              "      <td>38.0972</td>\n",
              "      <td>-106.1689</td>\n",
              "      <td>K04V</td>\n",
              "      <td>Saguache</td>\n",
              "      <td>Saguache</td>\n",
              "      <td>CO</td>\n",
              "      <td>81149.0</td>\n",
              "    </tr>\n",
              "    <tr>\n",
              "      <th>4</th>\n",
              "      <td>W-314</td>\n",
              "      <td>Rain</td>\n",
              "      <td>Light</td>\n",
              "      <td>2016-08-01 04:36:00</td>\n",
              "      <td>2016-08-01 04:56:00</td>\n",
              "      <td>US/Mountain</td>\n",
              "      <td>38.0972</td>\n",
              "      <td>-106.1689</td>\n",
              "      <td>K04V</td>\n",
              "      <td>Saguache</td>\n",
              "      <td>Saguache</td>\n",
              "      <td>CO</td>\n",
              "      <td>81149.0</td>\n",
              "    </tr>\n",
              "    <tr>\n",
              "      <th>5</th>\n",
              "      <td>W-315</td>\n",
              "      <td>Rain</td>\n",
              "      <td>Light</td>\n",
              "      <td>2016-08-01 05:16:00</td>\n",
              "      <td>2016-08-01 05:36:00</td>\n",
              "      <td>US/Mountain</td>\n",
              "      <td>38.0972</td>\n",
              "      <td>-106.1689</td>\n",
              "      <td>K04V</td>\n",
              "      <td>Saguache</td>\n",
              "      <td>Saguache</td>\n",
              "      <td>CO</td>\n",
              "      <td>81149.0</td>\n",
              "    </tr>\n",
              "    <tr>\n",
              "      <th>6</th>\n",
              "      <td>W-316</td>\n",
              "      <td>Rain</td>\n",
              "      <td>Light</td>\n",
              "      <td>2016-08-01 06:16:00</td>\n",
              "      <td>2016-08-01 06:36:00</td>\n",
              "      <td>US/Mountain</td>\n",
              "      <td>38.0972</td>\n",
              "      <td>-106.1689</td>\n",
              "      <td>K04V</td>\n",
              "      <td>Saguache</td>\n",
              "      <td>Saguache</td>\n",
              "      <td>CO</td>\n",
              "      <td>81149.0</td>\n",
              "    </tr>\n",
              "    <tr>\n",
              "      <th>7</th>\n",
              "      <td>W-317</td>\n",
              "      <td>Rain</td>\n",
              "      <td>Light</td>\n",
              "      <td>2016-08-01 23:56:00</td>\n",
              "      <td>2016-08-02 00:16:00</td>\n",
              "      <td>US/Mountain</td>\n",
              "      <td>38.0972</td>\n",
              "      <td>-106.1689</td>\n",
              "      <td>K04V</td>\n",
              "      <td>Saguache</td>\n",
              "      <td>Saguache</td>\n",
              "      <td>CO</td>\n",
              "      <td>81149.0</td>\n",
              "    </tr>\n",
              "    <tr>\n",
              "      <th>8</th>\n",
              "      <td>W-318</td>\n",
              "      <td>Rain</td>\n",
              "      <td>Light</td>\n",
              "      <td>2016-08-03 00:16:00</td>\n",
              "      <td>2016-08-03 01:16:00</td>\n",
              "      <td>US/Mountain</td>\n",
              "      <td>38.0972</td>\n",
              "      <td>-106.1689</td>\n",
              "      <td>K04V</td>\n",
              "      <td>Saguache</td>\n",
              "      <td>Saguache</td>\n",
              "      <td>CO</td>\n",
              "      <td>81149.0</td>\n",
              "    </tr>\n",
              "    <tr>\n",
              "      <th>9</th>\n",
              "      <td>W-319</td>\n",
              "      <td>Rain</td>\n",
              "      <td>Light</td>\n",
              "      <td>2016-08-03 02:16:00</td>\n",
              "      <td>2016-08-03 02:36:00</td>\n",
              "      <td>US/Mountain</td>\n",
              "      <td>38.0972</td>\n",
              "      <td>-106.1689</td>\n",
              "      <td>K04V</td>\n",
              "      <td>Saguache</td>\n",
              "      <td>Saguache</td>\n",
              "      <td>CO</td>\n",
              "      <td>81149.0</td>\n",
              "    </tr>\n",
              "  </tbody>\n",
              "</table>\n",
              "</div>"
            ],
            "text/plain": [
              "  EventId  Type Severity       StartTime(UTC)         EndTime(UTC)  \\\n",
              "0   W-310  Rain    Light  2016-08-01 00:16:00  2016-08-01 00:56:00   \n",
              "1   W-311  Rain    Light  2016-08-01 01:16:00  2016-08-01 01:36:00   \n",
              "2   W-312  Rain    Light  2016-08-01 01:56:00  2016-08-01 02:16:00   \n",
              "3   W-313  Rain    Light  2016-08-01 02:36:00  2016-08-01 02:56:00   \n",
              "4   W-314  Rain    Light  2016-08-01 04:36:00  2016-08-01 04:56:00   \n",
              "5   W-315  Rain    Light  2016-08-01 05:16:00  2016-08-01 05:36:00   \n",
              "6   W-316  Rain    Light  2016-08-01 06:16:00  2016-08-01 06:36:00   \n",
              "7   W-317  Rain    Light  2016-08-01 23:56:00  2016-08-02 00:16:00   \n",
              "8   W-318  Rain    Light  2016-08-03 00:16:00  2016-08-03 01:16:00   \n",
              "9   W-319  Rain    Light  2016-08-03 02:16:00  2016-08-03 02:36:00   \n",
              "\n",
              "      TimeZone  LocationLat  LocationLng AirportCode      City    County  \\\n",
              "0  US/Mountain      38.0972    -106.1689        K04V  Saguache  Saguache   \n",
              "1  US/Mountain      38.0972    -106.1689        K04V  Saguache  Saguache   \n",
              "2  US/Mountain      38.0972    -106.1689        K04V  Saguache  Saguache   \n",
              "3  US/Mountain      38.0972    -106.1689        K04V  Saguache  Saguache   \n",
              "4  US/Mountain      38.0972    -106.1689        K04V  Saguache  Saguache   \n",
              "5  US/Mountain      38.0972    -106.1689        K04V  Saguache  Saguache   \n",
              "6  US/Mountain      38.0972    -106.1689        K04V  Saguache  Saguache   \n",
              "7  US/Mountain      38.0972    -106.1689        K04V  Saguache  Saguache   \n",
              "8  US/Mountain      38.0972    -106.1689        K04V  Saguache  Saguache   \n",
              "9  US/Mountain      38.0972    -106.1689        K04V  Saguache  Saguache   \n",
              "\n",
              "  State  ZipCode  \n",
              "0    CO  81149.0  \n",
              "1    CO  81149.0  \n",
              "2    CO  81149.0  \n",
              "3    CO  81149.0  \n",
              "4    CO  81149.0  \n",
              "5    CO  81149.0  \n",
              "6    CO  81149.0  \n",
              "7    CO  81149.0  \n",
              "8    CO  81149.0  \n",
              "9    CO  81149.0  "
            ]
          },
          "execution_count": 7,
          "metadata": {},
          "output_type": "execute_result"
        }
      ],
      "source": [
        "df.head(10)"
      ]
    },
    {
      "cell_type": "code",
      "execution_count": 8,
      "metadata": {
        "colab": {
          "base_uri": "https://localhost:8080/"
        },
        "id": "eR6jUMDV25-t",
        "outputId": "207d883a-b6f0-4261-a147-2cc5dd205315"
      },
      "outputs": [
        {
          "name": "stdout",
          "output_type": "stream",
          "text": [
            "<class 'pandas.core.frame.DataFrame'>\n",
            "RangeIndex: 5576434 entries, 0 to 5576433\n",
            "Data columns (total 13 columns):\n",
            " #   Column          Dtype  \n",
            "---  ------          -----  \n",
            " 0   EventId         object \n",
            " 1   Type            object \n",
            " 2   Severity        object \n",
            " 3   StartTime(UTC)  object \n",
            " 4   EndTime(UTC)    object \n",
            " 5   TimeZone        object \n",
            " 6   LocationLat     float64\n",
            " 7   LocationLng     float64\n",
            " 8   AirportCode     object \n",
            " 9   City            object \n",
            " 10  County          object \n",
            " 11  State           object \n",
            " 12  ZipCode         float64\n",
            "dtypes: float64(3), object(10)\n",
            "memory usage: 553.1+ MB\n",
            "None\n"
          ]
        }
      ],
      "source": [
        "print(df.info())"
      ]
    },
    {
      "cell_type": "code",
      "execution_count": 9,
      "metadata": {
        "colab": {
          "base_uri": "https://localhost:8080/",
          "height": 300
        },
        "id": "lO-Aqkht2-HN",
        "outputId": "a559e4db-ba44-4f49-84a5-f84b0d85e045"
      },
      "outputs": [
        {
          "data": {
            "text/html": [
              "<div>\n",
              "<style scoped>\n",
              "    .dataframe tbody tr th:only-of-type {\n",
              "        vertical-align: middle;\n",
              "    }\n",
              "\n",
              "    .dataframe tbody tr th {\n",
              "        vertical-align: top;\n",
              "    }\n",
              "\n",
              "    .dataframe thead th {\n",
              "        text-align: right;\n",
              "    }\n",
              "</style>\n",
              "<table border=\"1\" class=\"dataframe\">\n",
              "  <thead>\n",
              "    <tr style=\"text-align: right;\">\n",
              "      <th></th>\n",
              "      <th>LocationLat</th>\n",
              "      <th>LocationLng</th>\n",
              "      <th>ZipCode</th>\n",
              "    </tr>\n",
              "  </thead>\n",
              "  <tbody>\n",
              "    <tr>\n",
              "      <th>count</th>\n",
              "      <td>5.576434e+06</td>\n",
              "      <td>5.576434e+06</td>\n",
              "      <td>5.532804e+06</td>\n",
              "    </tr>\n",
              "    <tr>\n",
              "      <th>mean</th>\n",
              "      <td>3.875765e+01</td>\n",
              "      <td>-9.185531e+01</td>\n",
              "      <td>5.236033e+04</td>\n",
              "    </tr>\n",
              "    <tr>\n",
              "      <th>std</th>\n",
              "      <td>5.466117e+00</td>\n",
              "      <td>1.344209e+01</td>\n",
              "      <td>2.569405e+04</td>\n",
              "    </tr>\n",
              "    <tr>\n",
              "      <th>min</th>\n",
              "      <td>2.455710e+01</td>\n",
              "      <td>-1.245550e+02</td>\n",
              "      <td>1.022000e+03</td>\n",
              "    </tr>\n",
              "    <tr>\n",
              "      <th>25%</th>\n",
              "      <td>3.455750e+01</td>\n",
              "      <td>-9.779700e+01</td>\n",
              "      <td>3.109800e+04</td>\n",
              "    </tr>\n",
              "    <tr>\n",
              "      <th>50%</th>\n",
              "      <td>3.932000e+01</td>\n",
              "      <td>-8.978690e+01</td>\n",
              "      <td>5.382100e+04</td>\n",
              "    </tr>\n",
              "    <tr>\n",
              "      <th>75%</th>\n",
              "      <td>4.301940e+01</td>\n",
              "      <td>-8.189210e+01</td>\n",
              "      <td>7.340100e+04</td>\n",
              "    </tr>\n",
              "    <tr>\n",
              "      <th>max</th>\n",
              "      <td>4.894020e+01</td>\n",
              "      <td>-6.779280e+01</td>\n",
              "      <td>9.936200e+04</td>\n",
              "    </tr>\n",
              "  </tbody>\n",
              "</table>\n",
              "</div>"
            ],
            "text/plain": [
              "        LocationLat   LocationLng       ZipCode\n",
              "count  5.576434e+06  5.576434e+06  5.532804e+06\n",
              "mean   3.875765e+01 -9.185531e+01  5.236033e+04\n",
              "std    5.466117e+00  1.344209e+01  2.569405e+04\n",
              "min    2.455710e+01 -1.245550e+02  1.022000e+03\n",
              "25%    3.455750e+01 -9.779700e+01  3.109800e+04\n",
              "50%    3.932000e+01 -8.978690e+01  5.382100e+04\n",
              "75%    4.301940e+01 -8.189210e+01  7.340100e+04\n",
              "max    4.894020e+01 -6.779280e+01  9.936200e+04"
            ]
          },
          "execution_count": 9,
          "metadata": {},
          "output_type": "execute_result"
        }
      ],
      "source": [
        "df.describe()"
      ]
    },
    {
      "cell_type": "code",
      "execution_count": 10,
      "metadata": {
        "colab": {
          "base_uri": "https://localhost:8080/"
        },
        "id": "NLxz1pSL3Ba5",
        "outputId": "29e2dded-a081-44cf-f7d8-e5baadfc16d3"
      },
      "outputs": [
        {
          "name": "stdout",
          "output_type": "stream",
          "text": [
            "EventId           5576434\n",
            "Type                    7\n",
            "Severity                6\n",
            "StartTime(UTC)    1472523\n",
            "EndTime(UTC)      1443909\n",
            "TimeZone                4\n",
            "LocationLat          2053\n",
            "LocationLng          2060\n",
            "AirportCode          2068\n",
            "City                 1714\n",
            "County               1100\n",
            "State                  48\n",
            "ZipCode              2017\n",
            "dtype: int64\n"
          ]
        }
      ],
      "source": [
        "print(df.nunique())"
      ]
    },
    {
      "cell_type": "code",
      "execution_count": 11,
      "metadata": {
        "colab": {
          "base_uri": "https://localhost:8080/"
        },
        "id": "9h-F257s3FBn",
        "outputId": "abf74e60-3f47-45c5-d57d-c0e4324e6741"
      },
      "outputs": [
        {
          "name": "stdout",
          "output_type": "stream",
          "text": [
            "EventId               0\n",
            "Type                  0\n",
            "Severity              0\n",
            "StartTime(UTC)        0\n",
            "EndTime(UTC)          0\n",
            "TimeZone              0\n",
            "LocationLat           0\n",
            "LocationLng           0\n",
            "AirportCode           0\n",
            "City              10784\n",
            "County                0\n",
            "State                 0\n",
            "ZipCode           43630\n",
            "dtype: int64\n"
          ]
        }
      ],
      "source": [
        "print(df.isnull().sum())"
      ]
    },
    {
      "cell_type": "markdown",
      "metadata": {
        "id": "yC1Jv1YyHHKH"
      },
      "source": [
        "**Cleaning data**"
      ]
    },
    {
      "cell_type": "code",
      "execution_count": 12,
      "metadata": {
        "id": "6M9d9kiq5U2c"
      },
      "outputs": [],
      "source": [
        "df.columns = df.columns.str.strip()"
      ]
    },
    {
      "cell_type": "code",
      "execution_count": 13,
      "metadata": {
        "colab": {
          "base_uri": "https://localhost:8080/"
        },
        "id": "39bXHKGS9UTg",
        "outputId": "45e0ac16-5ea8-469f-abfa-43045bc825e7"
      },
      "outputs": [
        {
          "data": {
            "text/plain": [
              "(5576434, 13)"
            ]
          },
          "execution_count": 13,
          "metadata": {},
          "output_type": "execute_result"
        }
      ],
      "source": [
        "\n",
        "df.shape"
      ]
    },
    {
      "cell_type": "code",
      "execution_count": 14,
      "metadata": {
        "colab": {
          "base_uri": "https://localhost:8080/"
        },
        "id": "zDb8H3iTCUGn",
        "outputId": "a1371cd6-6353-45e9-afdb-1a75c817a660"
      },
      "outputs": [
        {
          "data": {
            "text/plain": [
              "(5532804, 13)"
            ]
          },
          "execution_count": 14,
          "metadata": {},
          "output_type": "execute_result"
        }
      ],
      "source": [
        "df= df.dropna()\n",
        "df.shape"
      ]
    },
    {
      "cell_type": "markdown",
      "metadata": {
        "id": "8O8bnd39LfA5"
      },
      "source": [
        "**Explanatory Data Analysis (EDA)**"
      ]
    },
    {
      "cell_type": "code",
      "execution_count": 15,
      "metadata": {
        "colab": {
          "base_uri": "https://localhost:8080/",
          "height": 335
        },
        "id": "7tbqUKa8PA6W",
        "outputId": "7e9e6190-ba3e-4b5b-c619-9ae07e508c3a"
      },
      "outputs": [
        {
          "data": {
            "text/plain": [
              "Type\n",
              "Rain             3303939\n",
              "Fog              1243679\n",
              "Snow              714476\n",
              "Cold              145961\n",
              "Precipitation      88982\n",
              "Storm              33462\n",
              "Hail                2305\n",
              "Name: count, dtype: int64"
            ]
          },
          "execution_count": 15,
          "metadata": {},
          "output_type": "execute_result"
        }
      ],
      "source": [
        "df['Type'].value_counts()"
      ]
    },
    {
      "cell_type": "code",
      "execution_count": 16,
      "metadata": {
        "colab": {
          "base_uri": "https://localhost:8080/",
          "height": 767
        },
        "id": "Grbs7BQFLn9d",
        "outputId": "074b78e4-3a04-473a-842e-18e9ed801b4f"
      },
      "outputs": [
        {
          "data": {
            "image/png": "[encoded data removed]",
            "text/plain": [
              "<Figure size 1000x800 with 1 Axes>"
            ]
          },
          "metadata": {},
          "output_type": "display_data"
        }
      ],
      "source": [
        "f, ax = plt.subplots(1, 1, figsize=(10, 8))\n",
        "sns.countplot(x='Type', data=df, ax=ax, order=df['Type'].value_counts().index, palette=\"Blues\")\n",
        "ax.set_title('Event Type Distribution')\n",
        "plt.show()\n"
      ]
    },
    {
      "cell_type": "code",
      "execution_count": 17,
      "metadata": {
        "colab": {
          "base_uri": "https://localhost:8080/",
          "height": 313
        },
        "id": "8grO_pl6Z67k",
        "outputId": "c73f84f5-dfaf-4f22-e78b-454d789424cd"
      },
      "outputs": [
        {
          "data": {
            "text/html": [
              "<div>\n",
              "<style scoped>\n",
              "    .dataframe tbody tr th:only-of-type {\n",
              "        vertical-align: middle;\n",
              "    }\n",
              "\n",
              "    .dataframe tbody tr th {\n",
              "        vertical-align: top;\n",
              "    }\n",
              "\n",
              "    .dataframe thead th {\n",
              "        text-align: right;\n",
              "    }\n",
              "</style>\n",
              "<table border=\"1\" class=\"dataframe\">\n",
              "  <thead>\n",
              "    <tr style=\"text-align: right;\">\n",
              "      <th></th>\n",
              "      <th>EventId</th>\n",
              "      <th>Type</th>\n",
              "      <th>Severity</th>\n",
              "      <th>StartTime(UTC)</th>\n",
              "      <th>EndTime(UTC)</th>\n",
              "      <th>TimeZone</th>\n",
              "      <th>LocationLat</th>\n",
              "      <th>LocationLng</th>\n",
              "      <th>AirportCode</th>\n",
              "      <th>City</th>\n",
              "      <th>County</th>\n",
              "      <th>State</th>\n",
              "      <th>ZipCode</th>\n",
              "    </tr>\n",
              "  </thead>\n",
              "  <tbody>\n",
              "    <tr>\n",
              "      <th>0</th>\n",
              "      <td>W-310</td>\n",
              "      <td>Rain</td>\n",
              "      <td>Light</td>\n",
              "      <td>2016-08-01 00:16:00</td>\n",
              "      <td>2016-08-01 00:56:00</td>\n",
              "      <td>US/Mountain</td>\n",
              "      <td>38.0972</td>\n",
              "      <td>-106.1689</td>\n",
              "      <td>K04V</td>\n",
              "      <td>Saguache</td>\n",
              "      <td>Saguache</td>\n",
              "      <td>CO</td>\n",
              "      <td>81149.0</td>\n",
              "    </tr>\n",
              "    <tr>\n",
              "      <th>1</th>\n",
              "      <td>W-311</td>\n",
              "      <td>Rain</td>\n",
              "      <td>Light</td>\n",
              "      <td>2016-08-01 01:16:00</td>\n",
              "      <td>2016-08-01 01:36:00</td>\n",
              "      <td>US/Mountain</td>\n",
              "      <td>38.0972</td>\n",
              "      <td>-106.1689</td>\n",
              "      <td>K04V</td>\n",
              "      <td>Saguache</td>\n",
              "      <td>Saguache</td>\n",
              "      <td>CO</td>\n",
              "      <td>81149.0</td>\n",
              "    </tr>\n",
              "    <tr>\n",
              "      <th>2</th>\n",
              "      <td>W-312</td>\n",
              "      <td>Rain</td>\n",
              "      <td>Light</td>\n",
              "      <td>2016-08-01 01:56:00</td>\n",
              "      <td>2016-08-01 02:16:00</td>\n",
              "      <td>US/Mountain</td>\n",
              "      <td>38.0972</td>\n",
              "      <td>-106.1689</td>\n",
              "      <td>K04V</td>\n",
              "      <td>Saguache</td>\n",
              "      <td>Saguache</td>\n",
              "      <td>CO</td>\n",
              "      <td>81149.0</td>\n",
              "    </tr>\n",
              "    <tr>\n",
              "      <th>3</th>\n",
              "      <td>W-313</td>\n",
              "      <td>Rain</td>\n",
              "      <td>Light</td>\n",
              "      <td>2016-08-01 02:36:00</td>\n",
              "      <td>2016-08-01 02:56:00</td>\n",
              "      <td>US/Mountain</td>\n",
              "      <td>38.0972</td>\n",
              "      <td>-106.1689</td>\n",
              "      <td>K04V</td>\n",
              "      <td>Saguache</td>\n",
              "      <td>Saguache</td>\n",
              "      <td>CO</td>\n",
              "      <td>81149.0</td>\n",
              "    </tr>\n",
              "    <tr>\n",
              "      <th>4</th>\n",
              "      <td>W-314</td>\n",
              "      <td>Rain</td>\n",
              "      <td>Light</td>\n",
              "      <td>2016-08-01 04:36:00</td>\n",
              "      <td>2016-08-01 04:56:00</td>\n",
              "      <td>US/Mountain</td>\n",
              "      <td>38.0972</td>\n",
              "      <td>-106.1689</td>\n",
              "      <td>K04V</td>\n",
              "      <td>Saguache</td>\n",
              "      <td>Saguache</td>\n",
              "      <td>CO</td>\n",
              "      <td>81149.0</td>\n",
              "    </tr>\n",
              "  </tbody>\n",
              "</table>\n",
              "</div>"
            ],
            "text/plain": [
              "  EventId  Type Severity       StartTime(UTC)         EndTime(UTC)  \\\n",
              "0   W-310  Rain    Light  2016-08-01 00:16:00  2016-08-01 00:56:00   \n",
              "1   W-311  Rain    Light  2016-08-01 01:16:00  2016-08-01 01:36:00   \n",
              "2   W-312  Rain    Light  2016-08-01 01:56:00  2016-08-01 02:16:00   \n",
              "3   W-313  Rain    Light  2016-08-01 02:36:00  2016-08-01 02:56:00   \n",
              "4   W-314  Rain    Light  2016-08-01 04:36:00  2016-08-01 04:56:00   \n",
              "\n",
              "      TimeZone  LocationLat  LocationLng AirportCode      City    County  \\\n",
              "0  US/Mountain      38.0972    -106.1689        K04V  Saguache  Saguache   \n",
              "1  US/Mountain      38.0972    -106.1689        K04V  Saguache  Saguache   \n",
              "2  US/Mountain      38.0972    -106.1689        K04V  Saguache  Saguache   \n",
              "3  US/Mountain      38.0972    -106.1689        K04V  Saguache  Saguache   \n",
              "4  US/Mountain      38.0972    -106.1689        K04V  Saguache  Saguache   \n",
              "\n",
              "  State  ZipCode  \n",
              "0    CO  81149.0  \n",
              "1    CO  81149.0  \n",
              "2    CO  81149.0  \n",
              "3    CO  81149.0  \n",
              "4    CO  81149.0  "
            ]
          },
          "execution_count": 17,
          "metadata": {},
          "output_type": "execute_result"
        }
      ],
      "source": [
        "df.head()"
      ]
    },
    {
      "cell_type": "code",
      "execution_count": 18,
      "metadata": {
        "colab": {
          "base_uri": "https://localhost:8080/"
        },
        "id": "VQovU4VKhNej",
        "outputId": "84e93fde-d5dc-4534-ba1d-3afca9264d1b"
      },
      "outputs": [
        {
          "name": "stdout",
          "output_type": "stream",
          "text": [
            "['US/Mountain' 'US/Central' 'US/Eastern' 'US/Pacific']\n"
          ]
        }
      ],
      "source": [
        "TimeZoneUnieaque = df['TimeZone'].unique()\n",
        "print(TimeZoneUnieaque)"
      ]
    },
    {
      "cell_type": "code",
      "execution_count": 19,
      "metadata": {
        "colab": {
          "base_uri": "https://localhost:8080/"
        },
        "id": "ZOdi2E6ooHoZ",
        "outputId": "caaefdc8-5b1e-4d21-b7da-b60c8985abc9"
      },
      "outputs": [
        {
          "name": "stdout",
          "output_type": "stream",
          "text": [
            "['CO' 'OK' 'MN' 'LA' 'WI' 'ID' 'MI' 'KS' 'WY' 'MA' 'MO' 'NM' 'SC' 'NC'\n",
            " 'RI' 'VA' 'CT' 'OR' 'ND' 'CA' 'NY' 'OH' 'SD' 'AZ' 'NV' 'IA' 'TX' 'GA'\n",
            " 'NE' 'TN' 'AL' 'IL' 'AR' 'WA' 'IN' 'UT' 'FL' 'WV' 'MS' 'PA' 'ME' 'MD'\n",
            " 'NJ' 'KY' 'VT' 'MT' 'NH' 'DE']\n"
          ]
        }
      ],
      "source": [
        "StateUnieaque = df['State'].unique()\n",
        "print(StateUnieaque)"
      ]
    },
    {
      "cell_type": "markdown",
      "metadata": {
        "id": "-1w-hqHH9OlH"
      },
      "source": [
        "**Geospatial Data:**"
      ]
    },
    {
      "cell_type": "code",
      "execution_count": 20,
      "metadata": {
        "id": "eOCkV-n49XfF"
      },
      "outputs": [],
      "source": [
        "in_shp= r'/content/Data/tl_2024_us_aiannh.shp'"
      ]
    },
    {
      "cell_type": "code",
      "execution_count": 22,
      "metadata": {
        "colab": {
          "base_uri": "https://localhost:8080/"
        },
        "id": "uYievt5ML4AO",
        "outputId": "fe996264-87cf-4f55-a508-87252d98a37f"
      },
      "outputs": [
        {
          "name": "stdout",
          "output_type": "stream",
          "text": [
            "  REGION DIVISION STATEFP   STATENS GEOID      GEOIDFQ STUSPS           NAME  \\\n",
            "0      3        5      54  01779805    54  0400000US54     WV  West Virginia   \n",
            "1      3        5      12  00294478    12  0400000US12     FL        Florida   \n",
            "2      2        3      17  01779784    17  0400000US17     IL       Illinois   \n",
            "3      2        4      27  00662849    27  0400000US27     MN      Minnesota   \n",
            "4      3        5      24  01714934    24  0400000US24     MD       Maryland   \n",
            "\n",
            "  LSAD  MTFCC FUNCSTAT         ALAND       AWATER     INTPTLAT      INTPTLON  \\\n",
            "0   00  G4000        A   62266513826    488918898  +38.6472854  -080.6183274   \n",
            "1   00  G4000        A  138965379385  45968913048  +28.3989775  -082.5143005   \n",
            "2   00  G4000        A  143778206717   6216848695  +40.1028754  -089.1526108   \n",
            "3   00  G4000        A  206244791203  18937236061  +46.3159573  -094.1996043   \n",
            "4   00  G4000        A   25151223822   6979843236  +38.9466584  -076.6744939   \n",
            "\n",
            "                                            geometry  \n",
            "0  POLYGON ((-77.75438 39.33346, -77.75422 39.333...  \n",
            "1  MULTIPOLYGON (((-83.10874 24.62949, -83.10711 ...  \n",
            "2  POLYGON ((-87.89243 38.28285, -87.89334 38.282...  \n",
            "3  POLYGON ((-95.31991 48.99892, -95.31778 48.998...  \n",
            "4  POLYGON ((-75.756 39.24607, -75.75578 39.24334...  \n"
          ]
        }
      ],
      "source": [
        "gdf = gpd.read_file('tl_2024_us_state.shp')\n",
        "\n",
        "\n",
        "print(gdf.head())"
      ]
    },
    {
      "cell_type": "code",
      "execution_count": 23,
      "metadata": {
        "colab": {
          "base_uri": "https://localhost:8080/",
          "height": 556
        },
        "id": "VZQeimy_M-Zj",
        "outputId": "e0ed763b-2524-424e-9c8a-7a67566a1f31"
      },
      "outputs": [
        {
          "data": {
            "text/html": [
              "<div>\n",
              "<style scoped>\n",
              "    .dataframe tbody tr th:only-of-type {\n",
              "        vertical-align: middle;\n",
              "    }\n",
              "\n",
              "    .dataframe tbody tr th {\n",
              "        vertical-align: top;\n",
              "    }\n",
              "\n",
              "    .dataframe thead th {\n",
              "        text-align: right;\n",
              "    }\n",
              "</style>\n",
              "<table border=\"1\" class=\"dataframe\">\n",
              "  <thead>\n",
              "    <tr style=\"text-align: right;\">\n",
              "      <th></th>\n",
              "      <th>REGION</th>\n",
              "      <th>DIVISION</th>\n",
              "      <th>STATEFP</th>\n",
              "      <th>STATENS</th>\n",
              "      <th>GEOID</th>\n",
              "      <th>GEOIDFQ</th>\n",
              "      <th>STUSPS</th>\n",
              "      <th>NAME</th>\n",
              "      <th>LSAD</th>\n",
              "      <th>MTFCC</th>\n",
              "      <th>FUNCSTAT</th>\n",
              "      <th>ALAND</th>\n",
              "      <th>AWATER</th>\n",
              "      <th>INTPTLAT</th>\n",
              "      <th>INTPTLON</th>\n",
              "      <th>geometry</th>\n",
              "    </tr>\n",
              "  </thead>\n",
              "  <tbody>\n",
              "    <tr>\n",
              "      <th>0</th>\n",
              "      <td>3</td>\n",
              "      <td>5</td>\n",
              "      <td>54</td>\n",
              "      <td>01779805</td>\n",
              "      <td>54</td>\n",
              "      <td>0400000US54</td>\n",
              "      <td>WV</td>\n",
              "      <td>West Virginia</td>\n",
              "      <td>00</td>\n",
              "      <td>G4000</td>\n",
              "      <td>A</td>\n",
              "      <td>62266513826</td>\n",
              "      <td>488918898</td>\n",
              "      <td>+38.6472854</td>\n",
              "      <td>-080.6183274</td>\n",
              "      <td>POLYGON ((-77.75438 39.33346, -77.75422 39.333...</td>\n",
              "    </tr>\n",
              "    <tr>\n",
              "      <th>1</th>\n",
              "      <td>3</td>\n",
              "      <td>5</td>\n",
              "      <td>12</td>\n",
              "      <td>00294478</td>\n",
              "      <td>12</td>\n",
              "      <td>0400000US12</td>\n",
              "      <td>FL</td>\n",
              "      <td>Florida</td>\n",
              "      <td>00</td>\n",
              "      <td>G4000</td>\n",
              "      <td>A</td>\n",
              "      <td>138965379385</td>\n",
              "      <td>45968913048</td>\n",
              "      <td>+28.3989775</td>\n",
              "      <td>-082.5143005</td>\n",
              "      <td>MULTIPOLYGON (((-83.10874 24.62949, -83.10711 ...</td>\n",
              "    </tr>\n",
              "    <tr>\n",
              "      <th>2</th>\n",
              "      <td>2</td>\n",
              "      <td>3</td>\n",
              "      <td>17</td>\n",
              "      <td>01779784</td>\n",
              "      <td>17</td>\n",
              "      <td>0400000US17</td>\n",
              "      <td>IL</td>\n",
              "      <td>Illinois</td>\n",
              "      <td>00</td>\n",
              "      <td>G4000</td>\n",
              "      <td>A</td>\n",
              "      <td>143778206717</td>\n",
              "      <td>6216848695</td>\n",
              "      <td>+40.1028754</td>\n",
              "      <td>-089.1526108</td>\n",
              "      <td>POLYGON ((-87.89243 38.28285, -87.89334 38.282...</td>\n",
              "    </tr>\n",
              "    <tr>\n",
              "      <th>3</th>\n",
              "      <td>2</td>\n",
              "      <td>4</td>\n",
              "      <td>27</td>\n",
              "      <td>00662849</td>\n",
              "      <td>27</td>\n",
              "      <td>0400000US27</td>\n",
              "      <td>MN</td>\n",
              "      <td>Minnesota</td>\n",
              "      <td>00</td>\n",
              "      <td>G4000</td>\n",
              "      <td>A</td>\n",
              "      <td>206244791203</td>\n",
              "      <td>18937236061</td>\n",
              "      <td>+46.3159573</td>\n",
              "      <td>-094.1996043</td>\n",
              "      <td>POLYGON ((-95.31991 48.99892, -95.31778 48.998...</td>\n",
              "    </tr>\n",
              "    <tr>\n",
              "      <th>4</th>\n",
              "      <td>3</td>\n",
              "      <td>5</td>\n",
              "      <td>24</td>\n",
              "      <td>01714934</td>\n",
              "      <td>24</td>\n",
              "      <td>0400000US24</td>\n",
              "      <td>MD</td>\n",
              "      <td>Maryland</td>\n",
              "      <td>00</td>\n",
              "      <td>G4000</td>\n",
              "      <td>A</td>\n",
              "      <td>25151223822</td>\n",
              "      <td>6979843236</td>\n",
              "      <td>+38.9466584</td>\n",
              "      <td>-076.6744939</td>\n",
              "      <td>POLYGON ((-75.756 39.24607, -75.75578 39.24334...</td>\n",
              "    </tr>\n",
              "  </tbody>\n",
              "</table>\n",
              "</div>"
            ],
            "text/plain": [
              "  REGION DIVISION STATEFP   STATENS GEOID      GEOIDFQ STUSPS           NAME  \\\n",
              "0      3        5      54  01779805    54  0400000US54     WV  West Virginia   \n",
              "1      3        5      12  00294478    12  0400000US12     FL        Florida   \n",
              "2      2        3      17  01779784    17  0400000US17     IL       Illinois   \n",
              "3      2        4      27  00662849    27  0400000US27     MN      Minnesota   \n",
              "4      3        5      24  01714934    24  0400000US24     MD       Maryland   \n",
              "\n",
              "  LSAD  MTFCC FUNCSTAT         ALAND       AWATER     INTPTLAT      INTPTLON  \\\n",
              "0   00  G4000        A   62266513826    488918898  +38.6472854  -080.6183274   \n",
              "1   00  G4000        A  138965379385  45968913048  +28.3989775  -082.5143005   \n",
              "2   00  G4000        A  143778206717   6216848695  +40.1028754  -089.1526108   \n",
              "3   00  G4000        A  206244791203  18937236061  +46.3159573  -094.1996043   \n",
              "4   00  G4000        A   25151223822   6979843236  +38.9466584  -076.6744939   \n",
              "\n",
              "                                            geometry  \n",
              "0  POLYGON ((-77.75438 39.33346, -77.75422 39.333...  \n",
              "1  MULTIPOLYGON (((-83.10874 24.62949, -83.10711 ...  \n",
              "2  POLYGON ((-87.89243 38.28285, -87.89334 38.282...  \n",
              "3  POLYGON ((-95.31991 48.99892, -95.31778 48.998...  \n",
              "4  POLYGON ((-75.756 39.24607, -75.75578 39.24334...  "
            ]
          },
          "execution_count": 23,
          "metadata": {},
          "output_type": "execute_result"
        }
      ],
      "source": [
        "gdf.head()"
      ]
    },
    {
      "cell_type": "code",
      "execution_count": 24,
      "metadata": {
        "colab": {
          "base_uri": "https://localhost:8080/"
        },
        "id": "BFmj-lJkNX8d",
        "outputId": "e9ac5f5e-2cf2-4daf-b59f-40b1f22c7c4b"
      },
      "outputs": [
        {
          "data": {
            "text/plain": [
              "56"
            ]
          },
          "execution_count": 24,
          "metadata": {},
          "output_type": "execute_result"
        }
      ],
      "source": [
        "len(gdf)"
      ]
    },
    {
      "cell_type": "code",
      "execution_count": 25,
      "metadata": {
        "colab": {
          "base_uri": "https://localhost:8080/",
          "height": 1000
        },
        "id": "uR5RuHA9hu-z",
        "outputId": "23b69ab1-db37-4e60-c9bc-c4c0318cef07"
      },
      "outputs": [
        {
          "data": {
            "text/plain": [
              "0          Polygon\n",
              "1     MultiPolygon\n",
              "2          Polygon\n",
              "3          Polygon\n",
              "4          Polygon\n",
              "5     MultiPolygon\n",
              "6          Polygon\n",
              "7          Polygon\n",
              "8          Polygon\n",
              "9          Polygon\n",
              "10         Polygon\n",
              "11         Polygon\n",
              "12         Polygon\n",
              "13    MultiPolygon\n",
              "14         Polygon\n",
              "15         Polygon\n",
              "16         Polygon\n",
              "17         Polygon\n",
              "18         Polygon\n",
              "19         Polygon\n",
              "20         Polygon\n",
              "21         Polygon\n",
              "22         Polygon\n",
              "23         Polygon\n",
              "24         Polygon\n",
              "25         Polygon\n",
              "26         Polygon\n",
              "27         Polygon\n",
              "28         Polygon\n",
              "29         Polygon\n",
              "30         Polygon\n",
              "31    MultiPolygon\n",
              "32         Polygon\n",
              "33    MultiPolygon\n",
              "34    MultiPolygon\n",
              "35    MultiPolygon\n",
              "36         Polygon\n",
              "37         Polygon\n",
              "38    MultiPolygon\n",
              "39         Polygon\n",
              "40    MultiPolygon\n",
              "41    MultiPolygon\n",
              "42         Polygon\n",
              "43         Polygon\n",
              "44         Polygon\n",
              "45         Polygon\n",
              "46         Polygon\n",
              "47         Polygon\n",
              "48         Polygon\n",
              "49    MultiPolygon\n",
              "50         Polygon\n",
              "51         Polygon\n",
              "52         Polygon\n",
              "53         Polygon\n",
              "54         Polygon\n",
              "55         Polygon\n",
              "dtype: object"
            ]
          },
          "execution_count": 25,
          "metadata": {},
          "output_type": "execute_result"
        }
      ],
      "source": [
        "gdf.geom_type"
      ]
    },
    {
      "cell_type": "code",
      "execution_count": 138,
      "metadata": {
        "colab": {
          "base_uri": "https://localhost:8080/"
        },
        "id": "ZjGjFybEiM6m",
        "outputId": "e4d8b5b0-6882-4e39-9238-c028110c3884"
      },
      "outputs": [
        {
          "data": {
            "text/plain": [
              "<Geographic 2D CRS: EPSG:4269>\n",
              "Name: NAD83\n",
              "Axis Info [ellipsoidal]:\n",
              "- Lat[north]: Geodetic latitude (degree)\n",
              "- Lon[east]: Geodetic longitude (degree)\n",
              "Area of Use:\n",
              "- name: North America - onshore and offshore: Canada - Alberta; British Columbia; Manitoba; New Brunswick; Newfoundland and Labrador; Northwest Territories; Nova Scotia; Nunavut; Ontario; Prince Edward Island; Quebec; Saskatchewan; Yukon. Puerto Rico. United States (USA) - Alabama; Alaska; Arizona; Arkansas; California; Colorado; Connecticut; Delaware; Florida; Georgia; Hawaii; Idaho; Illinois; Indiana; Iowa; Kansas; Kentucky; Louisiana; Maine; Maryland; Massachusetts; Michigan; Minnesota; Mississippi; Missouri; Montana; Nebraska; Nevada; New Hampshire; New Jersey; New Mexico; New York; North Carolina; North Dakota; Ohio; Oklahoma; Oregon; Pennsylvania; Rhode Island; South Carolina; South Dakota; Tennessee; Texas; Utah; Vermont; Virginia; Washington; West Virginia; Wisconsin; Wyoming. US Virgin Islands. British Virgin Islands.\n",
              "- bounds: (167.65, 14.92, -40.73, 86.45)\n",
              "Datum: North American Datum 1983\n",
              "- Ellipsoid: GRS 1980\n",
              "- Prime Meridian: Greenwich"
            ]
          },
          "execution_count": 138,
          "metadata": {},
          "output_type": "execute_result"
        }
      ],
      "source": [
        "gdf.crs"
      ]
    },
    {
      "cell_type": "code",
      "execution_count": 26,
      "metadata": {
        "colab": {
          "base_uri": "https://localhost:8080/",
          "height": 593
        },
        "id": "zv592H0Nic_r",
        "outputId": "3b046b97-0b03-4834-808c-fd2877c71e95"
      },
      "outputs": [
        {
          "data": {
            "image/png": "[encoded data removed]",
            "text/plain": [
              "<Figure size 1500x1500 with 1 Axes>"
            ]
          },
          "metadata": {},
          "output_type": "display_data"
        }
      ],
      "source": [
        "ax=gdf.plot(figsize=(15, 15), alpha=0.7, edgecolor='black', color='lightblue')\n",
        "ax.set_xlim([-130, -60])\n",
        "ax.set_ylim([20, 50])\n",
        "ax.set_axis_off()\n",
        "plt.title('Geographic Boundaries of Areas')\n",
        "plt.xlabel('Longitude')\n",
        "plt.ylabel('Latitude')\n",
        "plt.show()"
      ]
    },
    {
      "cell_type": "code",
      "execution_count": 28,
      "metadata": {
        "id": "iCML8v03tkPz"
      },
      "outputs": [],
      "source": [
        "gdf.to_file(r'tl_2024_us_state_op.shp')"
      ]
    },
    {
      "cell_type": "code",
      "execution_count": 29,
      "metadata": {
        "colab": {
          "base_uri": "https://localhost:8080/"
        },
        "id": "2A0RS3r5IDnS",
        "outputId": "6ddeadb4-adf7-49ee-ad9f-24225846ef3d"
      },
      "outputs": [
        {
          "name": "stdout",
          "output_type": "stream",
          "text": [
            "Unique values in df['State']: ['CO' 'OK' 'MN' 'LA' 'WI' 'ID' 'MI' 'KS' 'WY' 'MA' 'MO' 'NM' 'SC' 'NC'\n",
            " 'RI' 'VA' 'CT' 'OR' 'ND' 'CA' 'NY' 'OH' 'SD' 'AZ' 'NV' 'IA' 'TX' 'GA'\n",
            " 'NE' 'TN' 'AL' 'IL' 'AR' 'WA' 'IN' 'UT' 'FL' 'WV' 'MS' 'PA' 'ME' 'MD'\n",
            " 'NJ' 'KY' 'VT' 'MT' 'NH' 'DE']\n",
            "Unique values in gdf['STUSPS']: ['WV' 'FL' 'IL' 'MN' 'MD' 'RI' 'ID' 'NH' 'NC' 'VT' 'CT' 'DE' 'NM' 'CA'\n",
            " 'NJ' 'WI' 'OR' 'NE' 'PA' 'WA' 'LA' 'GA' 'AL' 'UT' 'OH' 'TX' 'CO' 'SC'\n",
            " 'OK' 'TN' 'WY' 'HI' 'ND' 'KY' 'VI' 'MP' 'GU' 'ME' 'NY' 'NV' 'AK' 'AS'\n",
            " 'MI' 'AR' 'MS' 'MO' 'MT' 'KS' 'IN' 'PR' 'SD' 'MA' 'VA' 'DC' 'IA' 'AZ']\n"
          ]
        }
      ],
      "source": [
        "#marage the data sets\n",
        "df['State'] = df['State'].astype(str)\n",
        "gdf['STUSPS'] = gdf['STUSPS'].astype(str)\n",
        "print(\"Unique values in df['State']:\", df['State'].unique())\n",
        "print(\"Unique values in gdf['STUSPS']:\", gdf['STUSPS'].unique())"
      ]
    },
    {
      "cell_type": "code",
      "execution_count": 30,
      "metadata": {
        "colab": {
          "base_uri": "https://localhost:8080/"
        },
        "id": "FT9g_JHbKiaj",
        "outputId": "a375ec4b-6c02-459f-df15-d47e75d7480f"
      },
      "outputs": [
        {
          "name": "stdout",
          "output_type": "stream",
          "text": [
            "  EventId  Type Severity       StartTime(UTC)         EndTime(UTC)  \\\n",
            "0   W-310  Rain    Light  2016-08-01 00:16:00  2016-08-01 00:56:00   \n",
            "1   W-311  Rain    Light  2016-08-01 01:16:00  2016-08-01 01:36:00   \n",
            "2   W-312  Rain    Light  2016-08-01 01:56:00  2016-08-01 02:16:00   \n",
            "3   W-313  Rain    Light  2016-08-01 02:36:00  2016-08-01 02:56:00   \n",
            "4   W-314  Rain    Light  2016-08-01 04:36:00  2016-08-01 04:56:00   \n",
            "\n",
            "      TimeZone  LocationLat  LocationLng AirportCode      City  ... STUSPS  \\\n",
            "0  US/Mountain      38.0972    -106.1689        K04V  Saguache  ...     CO   \n",
            "1  US/Mountain      38.0972    -106.1689        K04V  Saguache  ...     CO   \n",
            "2  US/Mountain      38.0972    -106.1689        K04V  Saguache  ...     CO   \n",
            "3  US/Mountain      38.0972    -106.1689        K04V  Saguache  ...     CO   \n",
            "4  US/Mountain      38.0972    -106.1689        K04V  Saguache  ...     CO   \n",
            "\n",
            "       NAME  LSAD  MTFCC FUNCSTAT         ALAND      AWATER     INTPTLAT  \\\n",
            "0  Colorado    00  G4000        A  268418973518  1185541418  +38.9937669   \n",
            "1  Colorado    00  G4000        A  268418973518  1185541418  +38.9937669   \n",
            "2  Colorado    00  G4000        A  268418973518  1185541418  +38.9937669   \n",
            "3  Colorado    00  G4000        A  268418973518  1185541418  +38.9937669   \n",
            "4  Colorado    00  G4000        A  268418973518  1185541418  +38.9937669   \n",
            "\n",
            "       INTPTLON                                           geometry  \n",
            "0  -105.5087122  POLYGON ((-105.15504 36.99526, -105.15543 36.9...  \n",
            "1  -105.5087122  POLYGON ((-105.15504 36.99526, -105.15543 36.9...  \n",
            "2  -105.5087122  POLYGON ((-105.15504 36.99526, -105.15543 36.9...  \n",
            "3  -105.5087122  POLYGON ((-105.15504 36.99526, -105.15543 36.9...  \n",
            "4  -105.5087122  POLYGON ((-105.15504 36.99526, -105.15543 36.9...  \n",
            "\n",
            "[5 rows x 29 columns]\n"
          ]
        }
      ],
      "source": [
        "merged = pd.merge(df, gdf, left_on='State', right_on='STUSPS', how='inner')\n",
        "print(merged.head())"
      ]
    },
    {
      "cell_type": "code",
      "execution_count": 31,
      "metadata": {
        "colab": {
          "base_uri": "https://localhost:8080/"
        },
        "id": "bdh2sDEhAXwt",
        "outputId": "aa2a5320-6f14-4793-c524-614db597d0fa"
      },
      "outputs": [
        {
          "name": "stdout",
          "output_type": "stream",
          "text": [
            "['Rain' 'Snow' 'Cold' 'Storm' 'Fog' 'Precipitation' 'Hail']\n",
            "['Light' 'Moderate' 'Heavy' 'Severe' 'UNK' 'Other']\n"
          ]
        }
      ],
      "source": [
        "unique_types = merged['Type'].unique()\n",
        "print(unique_types)\n",
        "unique_Severity = merged['Severity'].unique()\n",
        "print(unique_Severity)"
      ]
    },
    {
      "cell_type": "markdown",
      "metadata": {
        "id": "c8LEdE_G8Rnl"
      },
      "source": [
        "The DashBoard"
      ]
    },
    {
      "cell_type": "code",
      "execution_count": 33,
      "metadata": {
        "id": "mKTcmyIqTKi0"
      },
      "outputs": [],
      "source": [
        "weather_data = pd.read_csv('WeatherEvents_Aug16_Dec20_Publish.csv',\n",
        "     on_bad_lines='skip'\n",
        ")\n",
        "\n",
        "map_data = gpd.read_file('tl_2024_us_state.shp')\n"
      ]
    },
    {
      "cell_type": "code",
      "execution_count": 34,
      "metadata": {
        "id": "s8EI4NI6Te54"
      },
      "outputs": [],
      "source": [
        "weather_data['geometry'] = weather_data.apply(\n",
        "    lambda row: Point(row['LocationLng'], row['LocationLat']), axis=1\n",
        ")\n",
        "\n",
        "\n",
        "weather_gdf = gpd.GeoDataFrame(weather_data, geometry='geometry', crs=\"EPSG:4326\")\n"
      ]
    },
    {
      "cell_type": "code",
      "execution_count": 35,
      "metadata": {
        "id": "vpBWvSYkUPT8"
      },
      "outputs": [],
      "source": [
        "map_data = map_data.to_crs(epsg=4326)"
      ]
    },
    {
      "cell_type": "code",
      "execution_count": 36,
      "metadata": {
        "id": "HWJNdFCNUWqM"
      },
      "outputs": [],
      "source": [
        "merged_data = gpd.sjoin(weather_gdf, map_data, how='inner', predicate='within')"
      ]
    },
    {
      "cell_type": "code",
      "execution_count": 38,
      "metadata": {
        "colab": {
          "base_uri": "https://localhost:8080/"
        },
        "id": "zdd8nh0AJwsx",
        "outputId": "7be4533a-5476-483a-eb86-7f31447f3004"
      },
      "outputs": [
        {
          "name": "stdout",
          "output_type": "stream",
          "text": [
            "<class 'geopandas.geodataframe.GeoDataFrame'>\n",
            "Index: 5576434 entries, 0 to 5576433\n",
            "Data columns (total 30 columns):\n",
            " #   Column          Dtype   \n",
            "---  ------          -----   \n",
            " 0   EventId         object  \n",
            " 1   Type            object  \n",
            " 2   Severity        object  \n",
            " 3   StartTime(UTC)  object  \n",
            " 4   EndTime(UTC)    object  \n",
            " 5   TimeZone        object  \n",
            " 6   LocationLat     float64 \n",
            " 7   LocationLng     float64 \n",
            " 8   AirportCode     object  \n",
            " 9   City            object  \n",
            " 10  County          object  \n",
            " 11  State           object  \n",
            " 12  ZipCode         float64 \n",
            " 13  geometry        geometry\n",
            " 14  index_right     int64   \n",
            " 15  REGION          object  \n",
            " 16  DIVISION        object  \n",
            " 17  STATEFP         object  \n",
            " 18  STATENS         object  \n",
            " 19  GEOID           object  \n",
            " 20  GEOIDFQ         object  \n",
            " 21  STUSPS          object  \n",
            " 22  NAME            object  \n",
            " 23  LSAD            object  \n",
            " 24  MTFCC           object  \n",
            " 25  FUNCSTAT        object  \n",
            " 26  ALAND           int64   \n",
            " 27  AWATER          int64   \n",
            " 28  INTPTLAT        object  \n",
            " 29  INTPTLON        object  \n",
            "dtypes: float64(3), geometry(1), int64(3), object(23)\n",
            "memory usage: 1.3+ GB\n"
          ]
        }
      ],
      "source": [
        "merged_data.info()"
      ]
    },
    {
      "cell_type": "code",
      "execution_count": 39,
      "metadata": {
        "colab": {
          "base_uri": "https://localhost:8080/"
        },
        "id": "eKOoTrUaddNd",
        "outputId": "922c8754-b8e7-4b33-b4cc-32d2267c5af6"
      },
      "outputs": [
        {
          "name": "stdout",
          "output_type": "stream",
          "text": [
            "Requirement already satisfied: dash in c:\\users\\hp\\anaconda3\\lib\\site-packages (2.18.2)\n",
            "Requirement already satisfied: Flask<3.1,>=1.0.4 in c:\\users\\hp\\anaconda3\\lib\\site-packages (from dash) (3.0.3)\n",
            "Requirement already satisfied: Werkzeug<3.1 in c:\\users\\hp\\anaconda3\\lib\\site-packages (from dash) (3.0.3)\n",
            "Requirement already satisfied: plotly>=5.0.0 in c:\\users\\hp\\anaconda3\\lib\\site-packages (from dash) (5.24.1)\n",
            "Requirement already satisfied: dash-html-components==2.0.0 in c:\\users\\hp\\anaconda3\\lib\\site-packages (from dash) (2.0.0)\n",
            "Requirement already satisfied: dash-core-components==2.0.0 in c:\\users\\hp\\anaconda3\\lib\\site-packages (from dash) (2.0.0)\n",
            "Requirement already satisfied: dash-table==5.0.0 in c:\\users\\hp\\anaconda3\\lib\\site-packages (from dash) (5.0.0)\n",
            "Requirement already satisfied: importlib-metadata in c:\\users\\hp\\anaconda3\\lib\\site-packages (from dash) (7.0.1)\n",
            "Requirement already satisfied: typing-extensions>=4.1.1 in c:\\users\\hp\\anaconda3\\lib\\site-packages (from dash) (4.11.0)\n",
            "Requirement already satisfied: requests in c:\\users\\hp\\anaconda3\\lib\\site-packages (from dash) (2.32.3)\n",
            "Requirement already satisfied: retrying in c:\\users\\hp\\anaconda3\\lib\\site-packages (from dash) (1.3.4)\n",
            "Requirement already satisfied: nest-asyncio in c:\\users\\hp\\anaconda3\\lib\\site-packages (from dash) (1.6.0)\n",
            "Requirement already satisfied: setuptools in c:\\users\\hp\\anaconda3\\lib\\site-packages (from dash) (75.1.0)\n",
            "Requirement already satisfied: Jinja2>=3.1.2 in c:\\users\\hp\\anaconda3\\lib\\site-packages (from Flask<3.1,>=1.0.4->dash) (3.1.4)\n",
            "Requirement already satisfied: itsdangerous>=2.1.2 in c:\\users\\hp\\anaconda3\\lib\\site-packages (from Flask<3.1,>=1.0.4->dash) (2.2.0)\n",
            "Requirement already satisfied: click>=8.1.3 in c:\\users\\hp\\anaconda3\\lib\\site-packages (from Flask<3.1,>=1.0.4->dash) (8.1.7)\n",
            "Requirement already satisfied: blinker>=1.6.2 in c:\\users\\hp\\anaconda3\\lib\\site-packages (from Flask<3.1,>=1.0.4->dash) (1.6.2)\n",
            "Requirement already satisfied: tenacity>=6.2.0 in c:\\users\\hp\\anaconda3\\lib\\site-packages (from plotly>=5.0.0->dash) (8.2.3)\n",
            "Requirement already satisfied: packaging in c:\\users\\hp\\anaconda3\\lib\\site-packages (from plotly>=5.0.0->dash) (24.1)\n",
            "Requirement already satisfied: MarkupSafe>=2.1.1 in c:\\users\\hp\\anaconda3\\lib\\site-packages (from Werkzeug<3.1->dash) (2.1.3)\n",
            "Requirement already satisfied: zipp>=0.5 in c:\\users\\hp\\anaconda3\\lib\\site-packages (from importlib-metadata->dash) (3.17.0)\n",
            "Requirement already satisfied: charset-normalizer<4,>=2 in c:\\users\\hp\\anaconda3\\lib\\site-packages (from requests->dash) (3.3.2)\n",
            "Requirement already satisfied: idna<4,>=2.5 in c:\\users\\hp\\anaconda3\\lib\\site-packages (from requests->dash) (3.7)\n",
            "Requirement already satisfied: urllib3<3,>=1.21.1 in c:\\users\\hp\\anaconda3\\lib\\site-packages (from requests->dash) (2.2.3)\n",
            "Requirement already satisfied: certifi>=2017.4.17 in c:\\users\\hp\\anaconda3\\lib\\site-packages (from requests->dash) (2024.8.30)\n",
            "Requirement already satisfied: six>=1.7.0 in c:\\users\\hp\\anaconda3\\lib\\site-packages (from retrying->dash) (1.16.0)\n",
            "Requirement already satisfied: colorama in c:\\users\\hp\\anaconda3\\lib\\site-packages (from click>=8.1.3->Flask<3.1,>=1.0.4->dash) (0.4.6)\n"
          ]
        }
      ],
      "source": [
        "!pip install dash"
      ]
    },
    {
      "cell_type": "code",
      "execution_count": 40,
      "metadata": {
        "colab": {
          "base_uri": "https://localhost:8080/",
          "height": 672
        },
        "id": "HG7RBcGqPaLR",
        "outputId": "da60be0b-b472-4066-98c0-fd655fb9feb6"
      },
      "outputs": [
        {
          "data": {
            "text/html": [
              "\n",
              "        <iframe\n",
              "            width=\"100%\"\n",
              "            height=\"650\"\n",
              "            src=\"http://127.0.0.1:8050/\"\n",
              "            frameborder=\"0\"\n",
              "            allowfullscreen\n",
              "            \n",
              "        ></iframe>\n",
              "        "
            ],
            "text/plain": [
              "<IPython.lib.display.IFrame at 0x2173c97e450>"
            ]
          },
          "metadata": {},
          "output_type": "display_data"
        }
      ],
      "source": [
        "import dash\n",
        "from dash import dcc, html\n",
        "import plotly.express as px\n",
        "import pandas as pd\n",
        "import geopandas as gpd\n",
        "\n",
        "# Initialize Dash application\n",
        "app = dash.Dash(__name__)\n",
        "\n",
        "# Convert the 'StartTime(UTC)' column to datetime\n",
        "merged_data['StartTime(UTC)'] = pd.to_datetime(merged_data['StartTime(UTC)'], errors='coerce')\n",
        "\n",
        "# Remove rows with missing dates\n",
        "merged_data = merged_data.dropna(subset=['StartTime(UTC)'])\n",
        "\n",
        "# List of available weather types\n",
        "weather_types = ['Rain', 'Snow', 'Cold', 'Storm', 'Fog', 'Precipitation', 'Hail', 'All Weather Types']\n",
        "\n",
        "# Set up color mapping for weather types\n",
        "weather_type_colors = {\n",
        "    'Rain': 'blue',\n",
        "    'Snow': 'red',\n",
        "    'Cold': 'purple',\n",
        "    'Storm': 'yellow',\n",
        "    'Fog': 'orange',\n",
        "    'Precipitation': 'green',\n",
        "    'Hail': 'pink',\n",
        "    'All Weather Types': 'gray'\n",
        "}\n",
        "\n",
        "# sorted list of dates\n",
        "available_dates = sorted(merged_data['StartTime(UTC)'].dt.strftime('%Y-%m-%d').unique(), reverse=True)\n",
        "\n",
        "# Define user interface layout\n",
        "app.layout = html.Div([\n",
        "    html.H1(\"Weather Events in the United States\"),\n",
        "\n",
        "    # Weather type dropdown\n",
        "    dcc.Dropdown(\n",
        "        id='weather_type_dropdown',\n",
        "        options=[{'label': weather, 'value': weather} for weather in weather_types],\n",
        "        value='All Weather Types',\n",
        "        multi=False,\n",
        "        placeholder=\"Select Weather Type\"\n",
        "    ),\n",
        "\n",
        "    # Date dropdown\n",
        "    dcc.Dropdown(\n",
        "        id='date_dropdown',\n",
        "        options=[{'label': date, 'value': date} for date in available_dates],\n",
        "        value=available_dates[0],\n",
        "        multi=False,\n",
        "        placeholder=\"Select Date\"\n",
        "    ),\n",
        "\n",
        "    # Map to display weather events\n",
        "    dcc.Graph(id='weather_map'),\n",
        "\n",
        "    # Bar chart for weather cases\n",
        "    dcc.Graph(id='weather_cases_bar_chart')\n",
        "])\n",
        "\n",
        "# Update the map based on user selections\n",
        "@app.callback(\n",
        "    dash.Output('weather_map', 'figure'),\n",
        "    [dash.Input('date_dropdown', 'value'),\n",
        "     dash.Input('weather_type_dropdown', 'value')]\n",
        ")\n",
        "def update_weather_map(selected_date, selected_weather):\n",
        "    # Filter data by selected date\n",
        "    filtered_data = merged_data[merged_data['StartTime(UTC)'].dt.strftime('%Y-%m-%d') == selected_date]\n",
        "\n",
        "    if selected_weather != 'All Weather Types':\n",
        "        # Filter data by selected weather type\n",
        "        filtered_data = filtered_data[filtered_data['Type'] == selected_weather]\n",
        "\n",
        "    # Check if the filtered data is empty\n",
        "    if filtered_data.empty:\n",
        "        return {\n",
        "            'data': [],\n",
        "            'layout': {\n",
        "                'title': f'No data available for {selected_weather} on {selected_date}'\n",
        "            }\n",
        "        }\n",
        "\n",
        "    # Create a scatter geo map using Plotly\n",
        "    fig = px.scatter_geo(\n",
        "        filtered_data,\n",
        "        lon=filtered_data['LocationLng'],\n",
        "        lat=filtered_data['LocationLat'],\n",
        "        color='Type',\n",
        "        color_discrete_map=weather_type_colors,\n",
        "        hover_name='State',\n",
        "        hover_data=['City', 'County', 'Type'],\n",
        "        title=f'Weather Events: {selected_weather} on {selected_date}'\n",
        "    )\n",
        "\n",
        "    # Customize map layout\n",
        "    fig.update_layout(\n",
        "        geo=dict(\n",
        "            visible=True,\n",
        "            lakecolor='white',\n",
        "            projection_scale=2.5,\n",
        "            showland=True,\n",
        "            landcolor='lightgray',\n",
        "            showcountries=True,\n",
        "            countrycolor='black',\n",
        "            center={\"lat\": 37.090, \"lon\": -95.712}\n",
        "        ),\n",
        "        margin={\"r\": 0, \"t\": 0, \"l\": 0, \"b\": 0},\n",
        "        legend_title=\"Weather Type\"\n",
        "    )\n",
        "\n",
        "    return fig\n",
        "\n",
        "# bar chart for weather cases\n",
        "@app.callback(\n",
        "    dash.Output('weather_cases_bar_chart', 'figure'),\n",
        "    [dash.Input('date_dropdown', 'value'),\n",
        "     dash.Input('weather_type_dropdown', 'value')]\n",
        ")\n",
        "def update_weather_cases_bar_chart(selected_date, selected_weather):\n",
        "    # Filter data by selected date\n",
        "    filtered_data = merged_data[merged_data['StartTime(UTC)'].dt.strftime('%Y-%m-%d') == selected_date]\n",
        "\n",
        "    if selected_weather != 'All Weather Types':\n",
        "        # Filter data by selected weather type\n",
        "        filtered_data = filtered_data[filtered_data['Type'] == selected_weather]\n",
        "\n",
        "    # Group data by state and weather type\n",
        "    state_weather_counts = filtered_data.groupby(['State', 'Type']).size().reset_index(name='Count')\n",
        "\n",
        "    # Create a stacked bar chart using Plotly\n",
        "    fig = px.bar(\n",
        "        state_weather_counts,\n",
        "        x='State',\n",
        "        y='Count',\n",
        "        color='Type',\n",
        "        color_discrete_map=weather_type_colors,\n",
        "        title=f'Weather Events by State for {selected_weather} on {selected_date}',\n",
        "        labels={'Count': 'Number of Events', 'State': 'State'}\n",
        "    )\n",
        "\n",
        "    # Customize bar chart layout\n",
        "    fig.update_layout(\n",
        "        xaxis_title='State',\n",
        "        yaxis_title='Number of Events',\n",
        "        barmode='stack',\n",
        "        coloraxis_showscale=False\n",
        "    )\n",
        "\n",
        "    return fig\n",
        "\n",
        "# Run the Dash application\n",
        "if __name__ == '__main__':\n",
        "    app.run_server(debug=True)\n"
      ]
    }
  ],
  "metadata": {
    "colab": {
      "provenance": []
    },
    "kernelspec": {
      "display_name": "base",
      "language": "python",
      "name": "python3"
    },
    "language_info": {
      "codemirror_mode": {
        "name": "ipython",
        "version": 3
      },
      "file_extension": ".py",
      "mimetype": "text/x-python",
      "name": "python",
      "nbconvert_exporter": "python",
      "pygments_lexer": "ipython3",
      "version": "3.12.7"
    }
  },
  "nbformat": 4,
  "nbformat_minor": 0
}
